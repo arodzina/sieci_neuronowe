{
 "cells": [
  {
   "cell_type": "code",
   "id": "initial_id",
   "metadata": {
    "collapsed": true,
    "ExecuteTime": {
     "end_time": "2025-05-24T17:30:57.820517Z",
     "start_time": "2025-05-24T17:30:57.815459Z"
    }
   },
   "source": [
    ""
   ],
   "outputs": [],
   "execution_count": null
  },
  {
   "metadata": {
    "ExecuteTime": {
     "end_time": "2025-05-24T17:31:11.870925Z",
     "start_time": "2025-05-24T17:30:57.826459Z"
    }
   },
   "cell_type": "code",
   "source": [
    "from sklearn.metrics import accuracy_score\n",
    "from sklearn.neighbors import KNeighborsClassifier\n",
    "from sklearn.tree import DecisionTreeClassifier\n",
    "from sklearn.naive_bayes import GaussianNB\n",
    "from sklearn.preprocessing import StandardScaler\n",
    "from sklearn.model_selection import train_test_split\n",
    "import pandas as pd\n",
    "import numpy as np\n",
    "def load_and_prepare_data(sample_frac=0.3):\n",
    "    data = pd.read_csv('train_data.csv', sep=';')\n",
    "    data = data.sample(frac=sample_frac, random_state=42).reset_index(drop=True)\n",
    "    data.drop(['case_id', 'patientid'], axis=1, errors='ignore', inplace=True)\n",
    "\n",
    "    # Mapowanie Stay - łączenie klas powyżej 40 dni w jedną kategorię 4\n",
    "    if 'Stay' in data.columns and data['Stay'].dtype == object:\n",
    "        stay_mapping = {\n",
    "            '0-10': 0,\n",
    "            '11-20': 1,\n",
    "            '21-30': 2,\n",
    "            '31-40': 3,\n",
    "            # Wszystkie powyżej 40 dni łączymy w jedną kategorię 4\n",
    "            '41-50': 4,\n",
    "            '51-60': 4,\n",
    "            '61-70': 4,\n",
    "            '71-80': 4,\n",
    "            '81-90': 4,\n",
    "            '91-100': 4,\n",
    "            'More than 100 Days': 4\n",
    "        }\n",
    "        data['Stay'] = data['Stay'].map(stay_mapping).fillna(0).astype(int)\n",
    "\n",
    "    data.fillna(data.mean(numeric_only=True), inplace=True)\n",
    "    categorical_cols = data.select_dtypes(include=['object']).columns\n",
    "    data = pd.get_dummies(data, columns=categorical_cols)\n",
    "\n",
    "    return data\n",
    "\n",
    "\n",
    "def tune_knn(X_train, y_train, X_test, y_test):\n",
    "    best_acc = 0\n",
    "    best_params = None\n",
    "    for k in [5, 10, 15, 20]:\n",
    "        for metric in ['euclidean', 'manhattan']:\n",
    "            for weights in ['uniform', 'distance']:\n",
    "                knn = KNeighborsClassifier(n_neighbors=k, metric=metric, weights=weights, n_jobs=-1)\n",
    "                knn.fit(X_train, y_train)\n",
    "                y_pred = knn.predict(X_test)\n",
    "                acc = accuracy_score(y_test, y_pred)\n",
    "                if acc > best_acc:\n",
    "                    best_acc = acc\n",
    "                    best_params = (k, metric, weights)\n",
    "    print(f\"Best KNN params: k={best_params[0]}, metric={best_params[1]}, weights={best_params[2]}, accuracy={best_acc:.4f}\")\n",
    "\n",
    "def tune_decision_tree(X_train, y_train, X_test, y_test):\n",
    "    best_acc = 0\n",
    "    best_params = None\n",
    "    for depth in [5, 7, 10, 15]:\n",
    "        for min_leaf in [1, 5, 10]:\n",
    "            for min_split in [2, 5, 10]:\n",
    "                dt = DecisionTreeClassifier(max_depth=depth, min_samples_leaf=min_leaf,\n",
    "                                            min_samples_split=min_split, random_state=42)\n",
    "                dt.fit(X_train, y_train)\n",
    "                y_pred = dt.predict(X_test)\n",
    "                acc = accuracy_score(y_test, y_pred)\n",
    "                if acc > best_acc:\n",
    "                    best_acc = acc\n",
    "                    best_params = (depth, min_leaf, min_split)\n",
    "    print(f\"Best Decision Tree params: max_depth={best_params[0]}, min_samples_leaf={best_params[1]}, min_samples_split={best_params[2]}, accuracy={best_acc:.4f}\")\n",
    "\n",
    "def main():\n",
    "    data = load_and_prepare_data(sample_frac=0.1)\n",
    "    X = data.drop('Stay', axis=1).values.astype(np.float32)\n",
    "    y = data['Stay'].values\n",
    "    X_train, X_test, y_train, y_test = train_test_split(X, y, test_size=0.3, random_state=42)\n",
    "    scaler = StandardScaler()\n",
    "    X_train = scaler.fit_transform(X_train)\n",
    "    X_test = scaler.transform(X_test)\n",
    "\n",
    "    print(\"Tuning KNN...\")\n",
    "    tune_knn(X_train, y_train, X_test, y_test)\n",
    "\n",
    "    print(\"Tuning Decision Tree...\")\n",
    "    tune_decision_tree(X_train, y_train, X_test, y_test)\n",
    "\n",
    "    # Naive Bayes bez tuningu, bo mniej parametrów\n",
    "    from sklearn.naive_bayes import GaussianNB\n",
    "    nb = GaussianNB()\n",
    "    nb.fit(X_train, y_train)\n",
    "    y_pred = nb.predict(X_test)\n",
    "    print(f\"Naive Bayes Accuracy: {accuracy_score(y_test, y_pred):.4f}\")\n",
    "\n",
    "if __name__ == \"__main__\":\n",
    "    main()\n"
   ],
   "id": "b25054d62c735a01",
   "outputs": [
    {
     "name": "stdout",
     "output_type": "stream",
     "text": [
      "Tuning KNN...\n",
      "Best KNN params: k=20, metric=manhattan, weights=uniform, accuracy=0.3753\n",
      "Tuning Decision Tree...\n",
      "Best Decision Tree params: max_depth=7, min_samples_leaf=10, min_samples_split=2, accuracy=0.4578\n",
      "Naive Bayes Accuracy: 0.3804\n"
     ]
    }
   ],
   "execution_count": 9
  }
 ],
 "metadata": {
  "kernelspec": {
   "display_name": "Python 3",
   "language": "python",
   "name": "python3"
  },
  "language_info": {
   "codemirror_mode": {
    "name": "ipython",
    "version": 2
   },
   "file_extension": ".py",
   "mimetype": "text/x-python",
   "name": "python",
   "nbconvert_exporter": "python",
   "pygments_lexer": "ipython2",
   "version": "2.7.6"
  }
 },
 "nbformat": 4,
 "nbformat_minor": 5
}
