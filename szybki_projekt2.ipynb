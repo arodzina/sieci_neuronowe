{
 "cells": [
  {
   "cell_type": "code",
   "id": "initial_id",
   "metadata": {
    "collapsed": true,
    "ExecuteTime": {
     "end_time": "2025-05-24T21:57:00.129100Z",
     "start_time": "2025-05-24T21:57:00.126544Z"
    }
   },
   "source": [
    ""
   ],
   "outputs": [],
   "execution_count": null
  },
  {
   "metadata": {
    "ExecuteTime": {
     "end_time": "2025-05-24T21:57:00.384962Z",
     "start_time": "2025-05-24T21:57:00.134926Z"
    }
   },
   "cell_type": "code",
   "source": [
    "from sklearn.metrics import accuracy_score\n",
    "from sklearn.neighbors import KNeighborsClassifier\n",
    "from sklearn.tree import DecisionTreeClassifier\n",
    "from sklearn.ensemble import RandomForestClassifier\n",
    "from sklearn.naive_bayes import GaussianNB\n",
    "from sklearn.preprocessing import StandardScaler\n",
    "from sklearn.model_selection import train_test_split\n",
    "from xgboost import XGBClassifier\n",
    "import pandas as pd\n",
    "import numpy as np\n",
    "\n",
    "def load_and_prepare_data(sample_frac=0.5):\n",
    "    data = pd.read_csv('train_data.csv', sep=';')\n",
    "    data = data.sample(frac=sample_frac, random_state=42).reset_index(drop=True)\n",
    "    data.drop(['case_id', 'patientid'], axis=1, errors='ignore', inplace=True)\n",
    "\n",
    "    # Mapowanie Stay - łączenie klas powyżej 40 dni w jedną kategorię 4\n",
    "    if 'Stay' in data.columns and data['Stay'].dtype == object:\n",
    "        stay_mapping = {\n",
    "            '0-10': 0,\n",
    "            '11-20': 1,\n",
    "            '21-30': 2,\n",
    "            '31-40': 3,\n",
    "            '41-50': 4,\n",
    "            '51-60': 4,\n",
    "            '61-70': 4,\n",
    "            '71-80': 4,\n",
    "            '81-90': 4,\n",
    "            '91-100': 4,\n",
    "            'More than 100 Days': 4\n",
    "        }\n",
    "        data['Stay'] = data['Stay'].map(stay_mapping).fillna(0).astype(int)\n",
    "\n",
    "    data.fillna(data.mean(numeric_only=True), inplace=True)\n",
    "    categorical_cols = data.select_dtypes(include=['object']).columns\n",
    "    data = pd.get_dummies(data, columns=categorical_cols)\n",
    "\n",
    "    return data\n",
    "\n",
    "def main():\n",
    "    data = load_and_prepare_data(sample_frac=0.5)\n",
    "    X = data.drop('Stay', axis=1).values.astype(np.float32)\n",
    "    y = data['Stay'].values\n",
    "    X_train, X_test, y_train, y_test = train_test_split(X, y, test_size=0.3, stratify=y, random_state=42)\n",
    "\n",
    "    scaler = StandardScaler()\n",
    "    X_train = scaler.fit_transform(X_train)\n",
    "    X_test = scaler.transform(X_test)\n",
    "\n",
    "    print(\"\\nTuning KNN...\")\n",
    "    best_acc = 0\n",
    "    best_params = None\n",
    "    for k in [5, 10, 20, 50]:\n",
    "        for metric in ['euclidean', 'manhattan']:\n",
    "            for weights in ['uniform', 'distance']:\n",
    "                knn = KNeighborsClassifier(n_neighbors=k, metric=metric, weights=weights, n_jobs=-1)\n",
    "                knn.fit(X_train, y_train)\n",
    "                acc = accuracy_score(y_test, knn.predict(X_test))\n",
    "                if acc > best_acc:\n",
    "                    best_acc = acc\n",
    "                    best_params = (k, metric, weights)\n",
    "    print(f\"Best KNN params: k={best_params[0]}, metric={best_params[1]}, weights={best_params[2]}, accuracy={best_acc:.4f}\")\n",
    "\n",
    "    print(\"\\nTesting Decision Tree with class_weight...\")\n",
    "    dt = DecisionTreeClassifier(max_depth=10, min_samples_leaf=1, min_samples_split=2,\n",
    "                                class_weight='balanced', random_state=42)\n",
    "    dt.fit(X_train, y_train)\n",
    "    print(\"Decision Tree Accuracy:\", accuracy_score(y_test, dt.predict(X_test)))\n",
    "\n",
    "    print(\"\\nTesting Random Forest with class_weight...\")\n",
    "    rf = RandomForestClassifier(n_estimators=100, class_weight='balanced', random_state=42)\n",
    "    rf.fit(X_train, y_train)\n",
    "    print(\"Random Forest Accuracy:\", accuracy_score(y_test, rf.predict(X_test)))\n",
    "\n",
    "    print(\"\\nTesting XGBoost...\")\n",
    "    xgb = XGBClassifier(use_label_encoder=False, eval_metric='mlogloss')\n",
    "    xgb.fit(X_train, y_train)\n",
    "    print(\"XGBoost Accuracy:\", accuracy_score(y_test, xgb.predict(X_test)))\n",
    "\n",
    "    print(\"\\nTesting Naive Bayes...\")\n",
    "    nb = GaussianNB()\n",
    "    nb.fit(X_train, y_train)\n",
    "    print(\"Naive Bayes Accuracy:\", accuracy_score(y_test, nb.predict(X_test)))\n",
    "\n",
    "if __name__ == \"__main__\":\n",
    "    main()\n"
   ],
   "id": "b25054d62c735a01",
   "outputs": [
    {
     "ename": "XGBoostError",
     "evalue": "\nXGBoost Library (libxgboost.dylib) could not be loaded.\nLikely causes:\n  * OpenMP runtime is not installed\n    - vcomp140.dll or libgomp-1.dll for Windows\n    - libomp.dylib for Mac OSX\n    - libgomp.so for Linux and other UNIX-like OSes\n    Mac OSX users: Run `brew install libomp` to install OpenMP runtime.\n\n  * You are running 32-bit Python on a 64-bit OS\n\nError message(s): [\"dlopen(/Library/Frameworks/Python.framework/Versions/3.13/lib/python3.13/site-packages/xgboost/lib/libxgboost.dylib, 0x0006): Library not loaded: @rpath/libomp.dylib\\n  Referenced from: <948FC7F9-7446-3923-BB9F-85890E78C765> /Library/Frameworks/Python.framework/Versions/3.13/lib/python3.13/site-packages/xgboost/lib/libxgboost.dylib\\n  Reason: tried: '/opt/homebrew/opt/libomp/lib/libomp.dylib' (no such file), '/System/Volumes/Preboot/Cryptexes/OS/opt/homebrew/opt/libomp/lib/libomp.dylib' (no such file), '/opt/homebrew/opt/libomp/lib/libomp.dylib' (no such file), '/System/Volumes/Preboot/Cryptexes/OS/opt/homebrew/opt/libomp/lib/libomp.dylib' (no such file)\"]\n",
     "output_type": "error",
     "traceback": [
      "\u001B[31m---------------------------------------------------------------------------\u001B[39m",
      "\u001B[31mXGBoostError\u001B[39m                              Traceback (most recent call last)",
      "\u001B[36mCell\u001B[39m\u001B[36m \u001B[39m\u001B[32mIn[20]\u001B[39m\u001B[32m, line 8\u001B[39m\n\u001B[32m      6\u001B[39m \u001B[38;5;28;01mfrom\u001B[39;00m\u001B[38;5;250m \u001B[39m\u001B[34;01msklearn\u001B[39;00m\u001B[34;01m.\u001B[39;00m\u001B[34;01mpreprocessing\u001B[39;00m\u001B[38;5;250m \u001B[39m\u001B[38;5;28;01mimport\u001B[39;00m StandardScaler\n\u001B[32m      7\u001B[39m \u001B[38;5;28;01mfrom\u001B[39;00m\u001B[38;5;250m \u001B[39m\u001B[34;01msklearn\u001B[39;00m\u001B[34;01m.\u001B[39;00m\u001B[34;01mmodel_selection\u001B[39;00m\u001B[38;5;250m \u001B[39m\u001B[38;5;28;01mimport\u001B[39;00m train_test_split\n\u001B[32m----> \u001B[39m\u001B[32m8\u001B[39m \u001B[38;5;28;01mfrom\u001B[39;00m\u001B[38;5;250m \u001B[39m\u001B[34;01mxgboost\u001B[39;00m\u001B[38;5;250m \u001B[39m\u001B[38;5;28;01mimport\u001B[39;00m XGBClassifier\n\u001B[32m      9\u001B[39m \u001B[38;5;28;01mimport\u001B[39;00m\u001B[38;5;250m \u001B[39m\u001B[34;01mpandas\u001B[39;00m\u001B[38;5;250m \u001B[39m\u001B[38;5;28;01mas\u001B[39;00m\u001B[38;5;250m \u001B[39m\u001B[34;01mpd\u001B[39;00m\n\u001B[32m     10\u001B[39m \u001B[38;5;28;01mimport\u001B[39;00m\u001B[38;5;250m \u001B[39m\u001B[34;01mnumpy\u001B[39;00m\u001B[38;5;250m \u001B[39m\u001B[38;5;28;01mas\u001B[39;00m\u001B[38;5;250m \u001B[39m\u001B[34;01mnp\u001B[39;00m\n",
      "\u001B[36mFile \u001B[39m\u001B[32m/Library/Frameworks/Python.framework/Versions/3.13/lib/python3.13/site-packages/xgboost/__init__.py:6\u001B[39m\n\u001B[32m      1\u001B[39m \u001B[33;03m\"\"\"XGBoost: eXtreme Gradient Boosting library.\u001B[39;00m\n\u001B[32m      2\u001B[39m \n\u001B[32m      3\u001B[39m \u001B[33;03mContributors: https://github.com/dmlc/xgboost/blob/master/CONTRIBUTORS.md\u001B[39;00m\n\u001B[32m      4\u001B[39m \u001B[33;03m\"\"\"\u001B[39;00m\n\u001B[32m----> \u001B[39m\u001B[32m6\u001B[39m \u001B[38;5;28;01mfrom\u001B[39;00m\u001B[38;5;250m \u001B[39m\u001B[34;01m.\u001B[39;00m\u001B[38;5;250m \u001B[39m\u001B[38;5;28;01mimport\u001B[39;00m tracker  \u001B[38;5;66;03m# noqa\u001B[39;00m\n\u001B[32m      7\u001B[39m \u001B[38;5;28;01mfrom\u001B[39;00m\u001B[38;5;250m \u001B[39m\u001B[34;01m.\u001B[39;00m\u001B[38;5;250m \u001B[39m\u001B[38;5;28;01mimport\u001B[39;00m collective\n\u001B[32m      8\u001B[39m \u001B[38;5;28;01mfrom\u001B[39;00m\u001B[38;5;250m \u001B[39m\u001B[34;01m.\u001B[39;00m\u001B[34;01mcore\u001B[39;00m\u001B[38;5;250m \u001B[39m\u001B[38;5;28;01mimport\u001B[39;00m (\n\u001B[32m      9\u001B[39m     Booster,\n\u001B[32m     10\u001B[39m     DataIter,\n\u001B[32m   (...)\u001B[39m\u001B[32m     15\u001B[39m     build_info,\n\u001B[32m     16\u001B[39m )\n",
      "\u001B[36mFile \u001B[39m\u001B[32m/Library/Frameworks/Python.framework/Versions/3.13/lib/python3.13/site-packages/xgboost/tracker.py:9\u001B[39m\n\u001B[32m      6\u001B[39m \u001B[38;5;28;01mfrom\u001B[39;00m\u001B[38;5;250m \u001B[39m\u001B[34;01menum\u001B[39;00m\u001B[38;5;250m \u001B[39m\u001B[38;5;28;01mimport\u001B[39;00m IntEnum, unique\n\u001B[32m      7\u001B[39m \u001B[38;5;28;01mfrom\u001B[39;00m\u001B[38;5;250m \u001B[39m\u001B[34;01mtyping\u001B[39;00m\u001B[38;5;250m \u001B[39m\u001B[38;5;28;01mimport\u001B[39;00m Dict, Optional, Union\n\u001B[32m----> \u001B[39m\u001B[32m9\u001B[39m \u001B[38;5;28;01mfrom\u001B[39;00m\u001B[38;5;250m \u001B[39m\u001B[34;01m.\u001B[39;00m\u001B[34;01mcore\u001B[39;00m\u001B[38;5;250m \u001B[39m\u001B[38;5;28;01mimport\u001B[39;00m _LIB, _check_call, _deprecate_positional_args, make_jcargs\n\u001B[32m     12\u001B[39m \u001B[38;5;28;01mdef\u001B[39;00m\u001B[38;5;250m \u001B[39m\u001B[34mget_family\u001B[39m(addr: \u001B[38;5;28mstr\u001B[39m) -> \u001B[38;5;28mint\u001B[39m:\n\u001B[32m     13\u001B[39m \u001B[38;5;250m    \u001B[39m\u001B[33;03m\"\"\"Get network family from address.\"\"\"\u001B[39;00m\n",
      "\u001B[36mFile \u001B[39m\u001B[32m/Library/Frameworks/Python.framework/Versions/3.13/lib/python3.13/site-packages/xgboost/core.py:295\u001B[39m\n\u001B[32m    291\u001B[39m     \u001B[38;5;28;01mreturn\u001B[39;00m lib\n\u001B[32m    294\u001B[39m \u001B[38;5;66;03m# load the XGBoost library globally\u001B[39;00m\n\u001B[32m--> \u001B[39m\u001B[32m295\u001B[39m _LIB = \u001B[43m_load_lib\u001B[49m\u001B[43m(\u001B[49m\u001B[43m)\u001B[49m\n\u001B[32m    298\u001B[39m \u001B[38;5;28;01mdef\u001B[39;00m\u001B[38;5;250m \u001B[39m\u001B[34m_check_call\u001B[39m(ret: \u001B[38;5;28mint\u001B[39m) -> \u001B[38;5;28;01mNone\u001B[39;00m:\n\u001B[32m    299\u001B[39m \u001B[38;5;250m    \u001B[39m\u001B[33;03m\"\"\"Check the return value of C API call\u001B[39;00m\n\u001B[32m    300\u001B[39m \n\u001B[32m    301\u001B[39m \u001B[33;03m    This function will raise exception when error occurs.\u001B[39;00m\n\u001B[32m   (...)\u001B[39m\u001B[32m    307\u001B[39m \u001B[33;03m        return value from API calls\u001B[39;00m\n\u001B[32m    308\u001B[39m \u001B[33;03m    \"\"\"\u001B[39;00m\n",
      "\u001B[36mFile \u001B[39m\u001B[32m/Library/Frameworks/Python.framework/Versions/3.13/lib/python3.13/site-packages/xgboost/core.py:257\u001B[39m, in \u001B[36m_load_lib\u001B[39m\u001B[34m()\u001B[39m\n\u001B[32m    255\u001B[39m     \u001B[38;5;28;01mif\u001B[39;00m \u001B[38;5;129;01mnot\u001B[39;00m lib_success:\n\u001B[32m    256\u001B[39m         libname = os.path.basename(lib_paths[\u001B[32m0\u001B[39m])\n\u001B[32m--> \u001B[39m\u001B[32m257\u001B[39m         \u001B[38;5;28;01mraise\u001B[39;00m XGBoostError(\n\u001B[32m    258\u001B[39m             \u001B[33mf\u001B[39m\u001B[33m\"\"\"\u001B[39m\n\u001B[32m    259\u001B[39m \u001B[33mXGBoost Library (\u001B[39m\u001B[38;5;132;01m{\u001B[39;00mlibname\u001B[38;5;132;01m}\u001B[39;00m\u001B[33m) could not be loaded.\u001B[39m\n\u001B[32m    260\u001B[39m \u001B[33mLikely causes:\u001B[39m\n\u001B[32m    261\u001B[39m \u001B[33m  * OpenMP runtime is not installed\u001B[39m\n\u001B[32m    262\u001B[39m \u001B[33m    - vcomp140.dll or libgomp-1.dll for Windows\u001B[39m\n\u001B[32m    263\u001B[39m \u001B[33m    - libomp.dylib for Mac OSX\u001B[39m\n\u001B[32m    264\u001B[39m \u001B[33m    - libgomp.so for Linux and other UNIX-like OSes\u001B[39m\n\u001B[32m    265\u001B[39m \u001B[33m    Mac OSX users: Run `brew install libomp` to install OpenMP runtime.\u001B[39m\n\u001B[32m    266\u001B[39m \n\u001B[32m    267\u001B[39m \u001B[33m  * You are running 32-bit Python on a 64-bit OS\u001B[39m\n\u001B[32m    268\u001B[39m \n\u001B[32m    269\u001B[39m \u001B[33mError message(s): \u001B[39m\u001B[38;5;132;01m{\u001B[39;00mos_error_list\u001B[38;5;132;01m}\u001B[39;00m\n\u001B[32m    270\u001B[39m \u001B[33m\"\"\"\u001B[39m\n\u001B[32m    271\u001B[39m         )\n\u001B[32m    272\u001B[39m     _register_log_callback(lib)\n\u001B[32m    274\u001B[39m     libver = _lib_version(lib)\n",
      "\u001B[31mXGBoostError\u001B[39m: \nXGBoost Library (libxgboost.dylib) could not be loaded.\nLikely causes:\n  * OpenMP runtime is not installed\n    - vcomp140.dll or libgomp-1.dll for Windows\n    - libomp.dylib for Mac OSX\n    - libgomp.so for Linux and other UNIX-like OSes\n    Mac OSX users: Run `brew install libomp` to install OpenMP runtime.\n\n  * You are running 32-bit Python on a 64-bit OS\n\nError message(s): [\"dlopen(/Library/Frameworks/Python.framework/Versions/3.13/lib/python3.13/site-packages/xgboost/lib/libxgboost.dylib, 0x0006): Library not loaded: @rpath/libomp.dylib\\n  Referenced from: <948FC7F9-7446-3923-BB9F-85890E78C765> /Library/Frameworks/Python.framework/Versions/3.13/lib/python3.13/site-packages/xgboost/lib/libxgboost.dylib\\n  Reason: tried: '/opt/homebrew/opt/libomp/lib/libomp.dylib' (no such file), '/System/Volumes/Preboot/Cryptexes/OS/opt/homebrew/opt/libomp/lib/libomp.dylib' (no such file), '/opt/homebrew/opt/libomp/lib/libomp.dylib' (no such file), '/System/Volumes/Preboot/Cryptexes/OS/opt/homebrew/opt/libomp/lib/libomp.dylib' (no such file)\"]\n"
     ]
    }
   ],
   "execution_count": 20
  }
 ],
 "metadata": {
  "kernelspec": {
   "display_name": "Python 3",
   "language": "python",
   "name": "python3"
  },
  "language_info": {
   "codemirror_mode": {
    "name": "ipython",
    "version": 2
   },
   "file_extension": ".py",
   "mimetype": "text/x-python",
   "name": "python",
   "nbconvert_exporter": "python",
   "pygments_lexer": "ipython2",
   "version": "2.7.6"
  }
 },
 "nbformat": 4,
 "nbformat_minor": 5
}
