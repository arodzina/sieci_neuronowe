{
 "cells": [
  {
   "cell_type": "code",
   "id": "initial_id",
   "metadata": {
    "collapsed": true,
    "ExecuteTime": {
     "end_time": "2025-05-24T17:28:28.178209Z",
     "start_time": "2025-05-24T17:28:27.688727Z"
    }
   },
   "source": [
    "import pandas as pd\n",
    "import numpy as np\n",
    "from sklearn.model_selection import train_test_split\n",
    "from sklearn.preprocessing import LabelEncoder\n",
    "from sklearn.neighbors import KNeighborsClassifier\n",
    "from sklearn.tree import DecisionTreeClassifier\n",
    "from sklearn.naive_bayes import GaussianNB\n",
    "import warnings\n",
    "\n",
    "warnings.filterwarnings('ignore')\n",
    "\n",
    "def load_and_prepare_data(sample_frac=0.99):  # Użyj 10% danych\n",
    "    data = pd.read_csv('train_data.csv', sep=';')\n",
    "    data = data.sample(frac=sample_frac, random_state=42).reset_index(drop=True)\n",
    "\n",
    "    le = LabelEncoder()\n",
    "    categorical_columns = ['Hospital_type_code', 'City_Code_Hospital', 'Hospital_region_code',\n",
    "                           'Department', 'Ward_Type', 'Ward_Facility_Code', 'Type of Admission',\n",
    "                           'Severity of Illness', 'Age', 'Stay']\n",
    "\n",
    "    for col in categorical_columns:\n",
    "        if col in data.columns:\n",
    "            data[col] = le.fit_transform(data[col].astype(str))\n",
    "\n",
    "    data.drop(['case_id', 'patientid'], axis=1, errors='ignore', inplace=True)\n",
    "\n",
    "    # Wypełnij brakujące wartości średnią tylko dla kolumn numerycznych\n",
    "    data.fillna(data.mean(numeric_only=True), inplace=True)\n",
    "\n",
    "    # Mapowanie kolumny Stay (jeśli nadal jest string, ale po LabelEncoder już nie powinno być)\n",
    "    if 'Stay' in data.columns and data['Stay'].dtype == object:\n",
    "        stay_mapping = {'0-10': 0, '11-20': 1, '21-30': 2, '31-40': 3, '41-50': 4,\n",
    "                        '51-60': 5, '61-70': 6, '71-80': 7, '81-90': 8, '91-100': 9, 'More than 100 Days': 10}\n",
    "        data['Stay'] = data['Stay'].map(stay_mapping).fillna(0)\n",
    "\n",
    "    return data\n",
    "\n",
    "calculate_accuracy = lambda y_true, y_pred: np.mean(y_true == y_pred)\n",
    "\n",
    "def main():\n",
    "    data = load_and_prepare_data(sample_frac=0.1)  # 10% danych\n",
    "\n",
    "    X = data.drop('Stay', axis=1).values.astype(np.float32)\n",
    "    y = data['Stay'].values\n",
    "\n",
    "    X_train, X_test, y_train, y_test = train_test_split(X, y, test_size=0.3, random_state=42)\n",
    "\n",
    "    print(\"Szybki test trzech modeli (scikit-learn):\")\n",
    "\n",
    "    # KNN - z równoległym przetwarzaniem\n",
    "    knn = KNeighborsClassifier(n_neighbors=5, weights='uniform', n_jobs=-1)\n",
    "    knn.fit(X_train, y_train)\n",
    "    print(\"KNN Accuracy:\", calculate_accuracy(y_test, knn.predict(X_test)))\n",
    "\n",
    "    # Drzewo decyzyjne\n",
    "    dt = DecisionTreeClassifier(max_depth=5, random_state=42)\n",
    "    dt.fit(X_train, y_train)\n",
    "    print(\"Decision Tree Accuracy:\", calculate_accuracy(y_test, dt.predict(X_test)))\n",
    "\n",
    "    # Naive Bayes\n",
    "    nb = GaussianNB()\n",
    "    nb.fit(X_train, y_train)\n",
    "    print(\"Naive Bayes Accuracy:\", calculate_accuracy(y_test, nb.predict(X_test)))\n",
    "\n",
    "if __name__ == '__main__':\n",
    "    main()\n"
   ],
   "outputs": [
    {
     "name": "stdout",
     "output_type": "stream",
     "text": [
      "Szybki test trzech modeli (scikit-learn):\n",
      "KNN Accuracy: 0.2414695415532761\n",
      "Decision Tree Accuracy: 0.39669248482311076\n",
      "Naive Bayes Accuracy: 0.3604772870002093\n"
     ]
    }
   ],
   "execution_count": 5
  }
 ],
 "metadata": {
  "kernelspec": {
   "display_name": "Python 3",
   "language": "python",
   "name": "python3"
  },
  "language_info": {
   "codemirror_mode": {
    "name": "ipython",
    "version": 2
   },
   "file_extension": ".py",
   "mimetype": "text/x-python",
   "name": "python",
   "nbconvert_exporter": "python",
   "pygments_lexer": "ipython2",
   "version": "2.7.6"
  }
 },
 "nbformat": 4,
 "nbformat_minor": 5
}
